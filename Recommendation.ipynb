{
  "nbformat": 4,
  "nbformat_minor": 0,
  "metadata": {
    "colab": {
      "provenance": []
    },
    "kernelspec": {
      "name": "python3",
      "display_name": "Python 3"
    },
    "language_info": {
      "name": "python"
    }
  },
  "cells": [
    {
      "cell_type": "code",
      "execution_count": null,
      "metadata": {
        "id": "Kmy_4FkgM1F1"
      },
      "outputs": [],
      "source": [
        "from bs4 import BeautifulSoup as SOUP\n",
        "import re\n",
        "import requests as HTTP"
      ]
    },
    {
      "cell_type": "code",
      "source": [
        "def main(emotion):\n",
        "  \n",
        "    # IMDb Url for Comedy genre of\n",
        "    # comedy movies against emotion Sad\n",
        "    if(emotion == \"Sad\"):\n",
        "        urlhere = 'https://www.imdb.com/list/ls063104770/'\n",
        "  \n",
        "    # IMDb Url for Musical genre of\n",
        "    # Musical hit movies against emotion Disgust\n",
        "    elif(emotion == \"Disgust\"):\n",
        "        urlhere = 'https://www.imdb.com/search/title/?genres=musical&languages=te'\n",
        "  \n",
        "    # IMDb Url for Action genre of\n",
        "    # Action movies against emotion Anger\n",
        "    elif(emotion == \"Anger\"):\n",
        "        urlhere = 'https://www.imdb.com/list/ls517479644/'\n",
        "    \n",
        "    # Sport Movies against emotion fear\n",
        "\n",
        "    elif(emotion == \"Fear\"):\n",
        "      urlhere = 'https://www.imdb.com/list/ls086235766/'\n",
        "  \n",
        "  \n",
        "    # HTTP request to get the data of\n",
        "    # the whole page\n",
        "    response = HTTP.get(urlhere)\n",
        "    data = response.text\n",
        "    soup = SOUP(data, \"lxml\")\n",
        "  \n",
        "    # Extract movie titles from the\n",
        "    # data using regex\n",
        "    title = soup.find_all(\"a\", attrs = {\"href\" : re.compile(r'\\/title\\/tt+\\d*\\/')})\n",
        "    return title\n",
        "if __name__ == '__main__':\n",
        "  emotion = input(\"Enter the emotion: \")\n",
        "  a = main(emotion)\n",
        "  count = 0\n",
        "  print(\"Here are Recommended Movies\\n\")\n",
        "  for i in a:\n",
        "    tmp = str(i).split('>')\n",
        "  \n",
        "    if(len(tmp) == 3):\n",
        "      print(tmp[1][:-3])\n",
        "  \n",
        "    if(count > 11):\n",
        "      break\n",
        "    count+=1"
      ],
      "metadata": {
        "colab": {
          "base_uri": "https://localhost:8080/"
        },
        "id": "rjUjqv2ROBwy",
        "outputId": "b785c91b-e5c2-4174-c1f0-0877a2055a85"
      },
      "execution_count": null,
      "outputs": [
        {
          "output_type": "stream",
          "name": "stdout",
          "text": [
            "Enter the emotion: Fear\n",
            "Here are Recommended Movies\n",
            "\n",
            "Jersey\n",
            "Sarpatta Parambarai\n",
            "Dangal\n",
            "Let's Go! India\n",
            "Bhaag Milkha Bhaag\n",
            "Paan Singh Tomar\n"
          ]
        }
      ]
    },
    {
      "cell_type": "code",
      "source": [],
      "metadata": {
        "id": "9Rv1UjAxzaE_"
      },
      "execution_count": null,
      "outputs": []
    }
  ]
}